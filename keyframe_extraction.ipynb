{
 "cells": [
  {
   "cell_type": "code",
   "execution_count": null,
   "metadata": {},
   "outputs": [],
   "source": [
    "'''\n",
    "Katna extracts keyframes from videos using sum of absolute differences in LUV color space\n",
    "We made reference to the Katna documentation here: https://katna.readthedocs.io/en/latest/tutorials_video.html\n",
    "in writing this code\n",
    "'''\n",
    "import os\n",
    "import os.path\n",
    "import cv2\n",
    "import sys, getopt\n",
    "from Katna.video import Video\n",
    "from Katna.writer import KeyFrameDiskWriter\n",
    "import multiprocessing\n",
    "import ntpath\n",
    " \n",
    "\n",
    "# we take the path to a video as input, and provide the output keyframes    \n",
    "vd = Video()\n",
    "\n",
    "# replace vid_path with the input video path, and put output folder location to diskwriter location \n",
    "vid_path=\"/home/student/Music/DO_NOT_DELETE_Hayao_animeganplus/MBZUAI_paprika_sound.mp4\"\n",
    "diskwriter = KeyFrameDiskWriter(location=\"/home/student/Music/DO_NOT_DELETE_Hayao_animeganplus/katna_outputs\")\n",
    "\n",
    "vd.extract_video_keyframes(no_of_frames=10, \n",
    "        file_path=vid_path,\n",
    "        writer=diskwriter)\n",
    "\n",
    "\n",
    "\n",
    "    "
   ]
  }
 ],
 "metadata": {
  "kernelspec": {
   "display_name": "Python 3",
   "language": "python",
   "name": "python3"
  },
  "language_info": {
   "codemirror_mode": {
    "name": "ipython",
    "version": 3
   },
   "file_extension": ".py",
   "mimetype": "text/x-python",
   "name": "python",
   "nbconvert_exporter": "python",
   "pygments_lexer": "ipython3",
   "version": "3.8.5"
  }
 },
 "nbformat": 4,
 "nbformat_minor": 4
}
