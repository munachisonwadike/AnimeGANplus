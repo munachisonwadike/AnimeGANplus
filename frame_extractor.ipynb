{
 "cells": [
  {
   "cell_type": "code",
   "execution_count": 1,
   "metadata": {
    "colab": {
     "base_uri": "https://localhost:8080/"
    },
    "id": "MZUro-F0pqMM",
    "outputId": "4f55f66b-9e3d-4f61-8e71-9a4c52ca1045"
   },
   "outputs": [
    {
     "data": {
      "text/plain": [
       "'\\nUncomment these lines if you wish to make use of google drive as your local disk\\n'"
      ]
     },
     "execution_count": 1,
     "metadata": {},
     "output_type": "execute_result"
    }
   ],
   "source": [
    "'''\n",
    "Uncomment these lines if you wish to make use of google drive as your local disk\n",
    "'''\n",
    "# from google.colab import drive \n",
    "# drive.mount('/content/gdrive')"
   ]
  },
  {
   "cell_type": "code",
   "execution_count": 2,
   "metadata": {
    "colab": {
     "base_uri": "https://localhost:8080/"
    },
    "id": "TBX0apNsqhxj",
    "outputId": "ef155cdd-735b-44bc-8abc-fc5053b44076"
   },
   "outputs": [
    {
     "name": "stdout",
     "output_type": "stream",
     "text": [
      "<VideoCapture 0x7f485929afd0>\n"
     ]
    }
   ],
   "source": [
    "'''\n",
    "This code will extract individual frames from a film, provided by vid_path\n",
    "'''\n",
    "\n",
    "import cv2\n",
    "\n",
    "# Opens the Video file\n",
    "vid_path = './test.mp4'\n",
    "cap= cv2.VideoCapture(vid_path)\n",
    "print(cap)\n",
    "i=0\n",
    "while(cap.isOpened()):\n",
    "    ret, frame = cap.read()\n",
    "    if ret == False:\n",
    "        break\n",
    "    cv2.imwrite('./test/kang'+str(i)+'.jpg',frame)\n",
    "    print(i)\n",
    "    i+=1\n",
    "\t\n",
    " \n",
    "cap.release()\n",
    "cv2.destroyAllWindows()"
   ]
  }
 ],
 "metadata": {
  "colab": {
   "collapsed_sections": [],
   "name": "frame_extractor.ipynb",
   "provenance": []
  },
  "kernelspec": {
   "display_name": "Python 3",
   "language": "python",
   "name": "python3"
  },
  "language_info": {
   "codemirror_mode": {
    "name": "ipython",
    "version": 3
   },
   "file_extension": ".py",
   "mimetype": "text/x-python",
   "name": "python",
   "nbconvert_exporter": "python",
   "pygments_lexer": "ipython3",
   "version": "3.7.9"
  }
 },
 "nbformat": 4,
 "nbformat_minor": 1
}
