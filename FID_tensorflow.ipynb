{
 "cells": [
  {
   "cell_type": "code",
   "execution_count": 1,
   "metadata": {},
   "outputs": [
    {
     "name": "stdout",
     "output_type": "stream",
     "text": [
      "Requirement already satisfied: scikit-image in /home/student/anaconda3/envs/animegan/lib/python3.7/site-packages (0.18.1)\n",
      "Requirement already satisfied: imageio>=2.3.0 in /home/student/anaconda3/envs/animegan/lib/python3.7/site-packages (from scikit-image) (2.9.0)\n",
      "Requirement already satisfied: numpy>=1.16.5 in /home/student/anaconda3/envs/animegan/lib/python3.7/site-packages (from scikit-image) (1.19.2)\n",
      "Requirement already satisfied: pillow!=7.1.0,!=7.1.1,>=4.3.0 in /home/student/anaconda3/envs/animegan/lib/python3.7/site-packages (from scikit-image) (6.2.2)\n",
      "Requirement already satisfied: matplotlib!=3.0.0,>=2.0.0 in /home/student/anaconda3/envs/animegan/lib/python3.7/site-packages (from scikit-image) (3.2.1)\n",
      "Requirement already satisfied: networkx>=2.0 in /home/student/anaconda3/envs/animegan/lib/python3.7/site-packages (from scikit-image) (2.5.1)\n",
      "Requirement already satisfied: PyWavelets>=1.1.1 in /home/student/anaconda3/envs/animegan/lib/python3.7/site-packages (from scikit-image) (1.1.1)\n",
      "Requirement already satisfied: tifffile>=2019.7.26 in /home/student/anaconda3/envs/animegan/lib/python3.7/site-packages (from scikit-image) (2021.4.8)\n",
      "Requirement already satisfied: scipy>=1.0.1 in /home/student/anaconda3/envs/animegan/lib/python3.7/site-packages (from scikit-image) (1.6.2)\n",
      "Requirement already satisfied: cycler>=0.10 in /home/student/anaconda3/envs/animegan/lib/python3.7/site-packages (from matplotlib!=3.0.0,>=2.0.0->scikit-image) (0.10.0)\n",
      "Requirement already satisfied: kiwisolver>=1.0.1 in /home/student/anaconda3/envs/animegan/lib/python3.7/site-packages (from matplotlib!=3.0.0,>=2.0.0->scikit-image) (1.2.0)\n",
      "Requirement already satisfied: pyparsing!=2.0.4,!=2.1.2,!=2.1.6,>=2.0.1 in /home/student/anaconda3/envs/animegan/lib/python3.7/site-packages (from matplotlib!=3.0.0,>=2.0.0->scikit-image) (2.4.7)\n",
      "Requirement already satisfied: python-dateutil>=2.1 in /home/student/anaconda3/envs/animegan/lib/python3.7/site-packages (from matplotlib!=3.0.0,>=2.0.0->scikit-image) (2.8.1)\n",
      "Requirement already satisfied: decorator<5,>=4.3 in /home/student/anaconda3/envs/animegan/lib/python3.7/site-packages (from networkx>=2.0->scikit-image) (4.4.2)\n",
      "Requirement already satisfied: six in /home/student/anaconda3/envs/animegan/lib/python3.7/site-packages (from cycler>=0.10->matplotlib!=3.0.0,>=2.0.0->scikit-image) (1.15.0)\n"
     ]
    }
   ],
   "source": [
    "'''\n",
    "This package is needed to run the code\n",
    "'''\n",
    "\n",
    "!pip install scikit-image"
   ]
  },
  {
   "cell_type": "code",
   "execution_count": 2,
   "metadata": {
    "scrolled": false
   },
   "outputs": [
    {
     "name": "stderr",
     "output_type": "stream",
     "text": [
      "Using TensorFlow backend.\n"
     ]
    },
    {
     "name": "stdout",
     "output_type": "stream",
     "text": [
      "WARNING:tensorflow:From /home/student/anaconda3/envs/animegan/lib/python3.7/site-packages/tensorflow_core/python/ops/resource_variable_ops.py:1630: calling BaseResourceVariable.__init__ (from tensorflow.python.ops.resource_variable_ops) with constraint is deprecated and will be removed in a future version.\n",
      "Instructions for updating:\n",
      "If using Keras pass *_constraint arguments to layers.\n",
      "WARNING:tensorflow:From /home/student/anaconda3/envs/animegan/lib/python3.7/site-packages/keras/backend/tensorflow_backend.py:4070: The name tf.nn.max_pool is deprecated. Please use tf.nn.max_pool2d instead.\n",
      "\n",
      "WARNING:tensorflow:From /home/student/anaconda3/envs/animegan/lib/python3.7/site-packages/keras/backend/tensorflow_backend.py:4074: The name tf.nn.avg_pool is deprecated. Please use tf.nn.avg_pool2d instead.\n",
      "\n"
     ]
    }
   ],
   "source": [
    "'''\n",
    "We import the libraries and define the functions \n",
    "that will be required for calculating the FID\n",
    "We make proper citation to this post: https://machinelearningmastery.com/how-to-implement-the-frechet-inception-distance-fid-from-scratch/\n",
    "which we made use of\n",
    "'''\n",
    "import numpy\n",
    "from numpy import cov\n",
    "from numpy import trace\n",
    "from numpy import iscomplexobj\n",
    "from numpy import asarray\n",
    "from numpy.random import shuffle\n",
    "from scipy.linalg import sqrtm\n",
    "from keras.applications.inception_v3 import InceptionV3\n",
    "from keras.applications.inception_v3 import preprocess_input\n",
    "from keras.datasets.mnist import load_data\n",
    "from skimage.transform import resize\n",
    "from keras.datasets import cifar10\n",
    " \n",
    "# scale an array of images to a new size\n",
    "def scale_images(images, new_shape):\n",
    "    images_list = list()\n",
    "    for image in images:\n",
    "        # resize with nearest neighbor interpolation\n",
    "        new_image = resize(image, new_shape, 0)\n",
    "        # store\n",
    "        images_list.append(new_image)\n",
    "    return asarray(images_list)\n",
    " \n",
    "# calculate frechet inception distance\n",
    "def calculate_fid(model, images1, images2):\n",
    "    # calculate activations\n",
    "    act1 = model.predict(images1)\n",
    "    \n",
    "    # we added this line to help get a sense of model output\n",
    "    print(\"SHAPE OF MODEL OUTPUT->\", act1.shape)\n",
    "    \n",
    "    act2 = model.predict(images2)\n",
    "    # calculate mean and covariance statistics\n",
    "    mu1, sigma1 = act1.mean(axis=0), cov(act1, rowvar=False)\n",
    "    mu2, sigma2 = act2.mean(axis=0), cov(act2, rowvar=False)\n",
    "    # calculate sum squared difference between means\n",
    "    ssdiff = numpy.sum((mu1 - mu2)**2.0)\n",
    "    # calculate sqrt of product between cov\n",
    "    covmean = sqrtm(sigma1.dot(sigma2))\n",
    "    # check and correct imaginary numbers from sqrt\n",
    "    if iscomplexobj(covmean):\n",
    "        covmean = covmean.real\n",
    "    # calculate score\n",
    "    fid = ssdiff + trace(sigma1 + sigma2 - 2.0 * covmean)\n",
    "    return fid\n",
    " \n",
    "# prepare the inception v3 model\n",
    "model = InceptionV3(include_top=False, pooling='avg', input_shape=(299,299,3))\n",
    " "
   ]
  },
  {
   "cell_type": "code",
   "execution_count": 3,
   "metadata": {},
   "outputs": [
    {
     "name": "stdout",
     "output_type": "stream",
     "text": [
      "(67, 299, 299, 3)\n",
      "(1650, 299, 299, 3)\n",
      "WARNING:tensorflow:From /home/student/anaconda3/envs/animegan/lib/python3.7/site-packages/keras/backend/tensorflow_backend.py:422: The name tf.global_variables is deprecated. Please use tf.compat.v1.global_variables instead.\n",
      "\n",
      "SHAPE OF MODEL OUTPUT-> (67, 2048)\n",
      "FID: 2.083\n"
     ]
    }
   ],
   "source": [
    "'''\n",
    "Having defined the models and preprocessing functions, \n",
    "we calculate FID on a pair of image collections\n",
    "'''\n",
    "import numpy as np\n",
    "import glob\n",
    "from PIL import Image\n",
    "\n",
    "# pass the location to the first collection of images\n",
    "filelist1 = glob.glob('/home/student/Music/DO_NOT_DELETE_Shinkai_animeganplus/samples/063/*b.png')\n",
    "image_list1 = [np.array(Image.open(fname)) for fname in filelist1]\n",
    "images_list1_resized = list()\n",
    "for image in image_list1:\n",
    "    # resize with nearest neighbor interpolation\n",
    "    new_image = resize(image, (299,299,3), 0)\n",
    "    # store\n",
    "    images_list1_resized.append(new_image)\n",
    "images_list1_resized = np.array(images_list1_resized)\n",
    "print(images_list1_resized.shape)  \n",
    "\n",
    "# pass the location to the second collection of images\n",
    "filelist2 = glob.glob('/home/student/Music/DO_NOT_DELETE_Paprika_animeganplus/AnimeGAN/AnimeGAN/dataset/Shinkai/style/*.jpg')\n",
    "image_list2 = [np.array(Image.open(fname)) for fname in filelist2]\n",
    "image_list2 = image_list2[:2000]\n",
    "images_list2_resized = list()\n",
    "for image in image_list2:\n",
    "    # resize with nearest neighbor interpolation\n",
    "    new_image = resize(image, (299,299,3), 0)\n",
    "    # store\n",
    "    images_list2_resized.append(new_image)\n",
    "images_list2_resized = np.array(images_list2_resized)\n",
    "print(images_list2_resized.shape)   \n",
    "\n",
    "\n",
    "\n",
    "# pre-process images\n",
    "images_list1_resized = preprocess_input(images_list1_resized)\n",
    "images_list2_resized = preprocess_input(images_list2_resized)\n",
    "\n",
    "# calculate fid from both collections of images inception model\n",
    "fid = calculate_fid(model, images_list1_resized, images_list2_resized)\n",
    "print('FID: %.3f' % fid)\n"
   ]
  }
 ],
 "metadata": {
  "kernelspec": {
   "display_name": "Python 3",
   "language": "python",
   "name": "python3"
  },
  "language_info": {
   "codemirror_mode": {
    "name": "ipython",
    "version": 3
   },
   "file_extension": ".py",
   "mimetype": "text/x-python",
   "name": "python",
   "nbconvert_exporter": "python",
   "pygments_lexer": "ipython3",
   "version": "3.7.9"
  }
 },
 "nbformat": 4,
 "nbformat_minor": 4
}
