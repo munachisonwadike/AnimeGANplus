{
 "cells": [
  {
   "cell_type": "code",
   "execution_count": 1,
   "metadata": {
    "colab": {
     "base_uri": "https://localhost:8080/"
    },
    "executionInfo": {
     "elapsed": 27547,
     "status": "ok",
     "timestamp": 1619258936768,
     "user": {
      "displayName": "M.",
      "photoUrl": "https://lh3.googleusercontent.com/a-/AOh14GiRmcJDZpQKlI4QpVXZoHqolQFO1vJLhtw8hNyXwg=s64",
      "userId": "09970476606554335719"
     },
     "user_tz": -240
    },
    "id": "MZUro-F0pqMM",
    "outputId": "4390c290-3614-4ca5-f458-54ba7d140619"
   },
   "outputs": [
    {
     "data": {
      "text/plain": [
       "'\\nUncomment these lines if you hope to make use of Google Colab\\n'"
      ]
     },
     "execution_count": 1,
     "metadata": {},
     "output_type": "execute_result"
    }
   ],
   "source": [
    "'''\n",
    "Uncomment these lines if you hope to make use of Google Colab\n",
    "'''\n",
    "# from google.colab import drive \n",
    "# drive.mount('/content/gdrive')"
   ]
  },
  {
   "cell_type": "code",
   "execution_count": 4,
   "metadata": {
    "colab": {
     "base_uri": "https://localhost:8080/"
    },
    "executionInfo": {
     "elapsed": 208312,
     "status": "ok",
     "timestamp": 1619259182196,
     "user": {
      "displayName": "M.",
      "photoUrl": "https://lh3.googleusercontent.com/a-/AOh14GiRmcJDZpQKlI4QpVXZoHqolQFO1vJLhtw8hNyXwg=s64",
      "userId": "09970476606554335719"
     },
     "user_tz": -240
    },
    "id": "dkq7UFmOq4oZ",
    "outputId": "af36d17f-5def-4acc-bc2f-6423ad5eee02"
   },
   "outputs": [
    {
     "name": "stdout",
     "output_type": "stream",
     "text": [
      "14\n",
      "kang0.jpg\n",
      "kang1.jpg\n",
      "kang2.jpg\n",
      "kang3.jpg\n",
      "kang4.jpg\n",
      "kang5.jpg\n",
      "kang6.jpg\n",
      "kang7.jpg\n",
      "kang8.jpg\n",
      "kang9.jpg\n",
      "kang10.jpg\n",
      "kang11.jpg\n",
      "kang12.jpg\n",
      "kang13.jpg\n"
     ]
    },
    {
     "ename": "UnboundLocalError",
     "evalue": "local variable 'size' referenced before assignment",
     "output_type": "error",
     "traceback": [
      "\u001b[0;31m---------------------------------------------------------------------------\u001b[0m",
      "\u001b[0;31mUnboundLocalError\u001b[0m                         Traceback (most recent call last)",
      "\u001b[0;32m<ipython-input-4-21965df49ded>\u001b[0m in \u001b[0;36m<module>\u001b[0;34m\u001b[0m\n\u001b[1;32m     36\u001b[0m     \u001b[0mconvert_frames_to_video\u001b[0m\u001b[0;34m(\u001b[0m\u001b[0mpathIn\u001b[0m\u001b[0;34m,\u001b[0m \u001b[0mpathOut\u001b[0m\u001b[0;34m,\u001b[0m \u001b[0mfps\u001b[0m\u001b[0;34m)\u001b[0m\u001b[0;34m\u001b[0m\u001b[0;34m\u001b[0m\u001b[0m\n\u001b[1;32m     37\u001b[0m \u001b[0;32mif\u001b[0m \u001b[0m__name__\u001b[0m\u001b[0;34m==\u001b[0m\u001b[0;34m\"__main__\"\u001b[0m\u001b[0;34m:\u001b[0m\u001b[0;34m\u001b[0m\u001b[0;34m\u001b[0m\u001b[0m\n\u001b[0;32m---> 38\u001b[0;31m     \u001b[0mmain\u001b[0m\u001b[0;34m(\u001b[0m\u001b[0;34m)\u001b[0m\u001b[0;34m\u001b[0m\u001b[0;34m\u001b[0m\u001b[0m\n\u001b[0m",
      "\u001b[0;32m<ipython-input-4-21965df49ded>\u001b[0m in \u001b[0;36mmain\u001b[0;34m()\u001b[0m\n\u001b[1;32m     34\u001b[0m     \u001b[0mpathOut\u001b[0m \u001b[0;34m=\u001b[0m \u001b[0;34m'./ouput_video.mp4'\u001b[0m\u001b[0;34m\u001b[0m\u001b[0;34m\u001b[0m\u001b[0m\n\u001b[1;32m     35\u001b[0m     \u001b[0mfps\u001b[0m \u001b[0;34m=\u001b[0m \u001b[0;36m25.0\u001b[0m\u001b[0;34m\u001b[0m\u001b[0;34m\u001b[0m\u001b[0m\n\u001b[0;32m---> 36\u001b[0;31m     \u001b[0mconvert_frames_to_video\u001b[0m\u001b[0;34m(\u001b[0m\u001b[0mpathIn\u001b[0m\u001b[0;34m,\u001b[0m \u001b[0mpathOut\u001b[0m\u001b[0;34m,\u001b[0m \u001b[0mfps\u001b[0m\u001b[0;34m)\u001b[0m\u001b[0;34m\u001b[0m\u001b[0;34m\u001b[0m\u001b[0m\n\u001b[0m\u001b[1;32m     37\u001b[0m \u001b[0;32mif\u001b[0m \u001b[0m__name__\u001b[0m\u001b[0;34m==\u001b[0m\u001b[0;34m\"__main__\"\u001b[0m\u001b[0;34m:\u001b[0m\u001b[0;34m\u001b[0m\u001b[0;34m\u001b[0m\u001b[0m\n\u001b[1;32m     38\u001b[0m     \u001b[0mmain\u001b[0m\u001b[0;34m(\u001b[0m\u001b[0;34m)\u001b[0m\u001b[0;34m\u001b[0m\u001b[0;34m\u001b[0m\u001b[0m\n",
      "\u001b[0;32m<ipython-input-4-21965df49ded>\u001b[0m in \u001b[0;36mconvert_frames_to_video\u001b[0;34m(pathIn, pathOut, fps)\u001b[0m\n\u001b[1;32m     25\u001b[0m                 \u001b[0;31m#inserting the frames into an image array\u001b[0m\u001b[0;34m\u001b[0m\u001b[0;34m\u001b[0m\u001b[0;34m\u001b[0m\u001b[0m\n\u001b[1;32m     26\u001b[0m                 \u001b[0mframe_array\u001b[0m\u001b[0;34m.\u001b[0m\u001b[0mappend\u001b[0m\u001b[0;34m(\u001b[0m\u001b[0mimg\u001b[0m\u001b[0;34m)\u001b[0m\u001b[0;34m\u001b[0m\u001b[0;34m\u001b[0m\u001b[0m\n\u001b[0;32m---> 27\u001b[0;31m     \u001b[0mout\u001b[0m \u001b[0;34m=\u001b[0m \u001b[0mcv2\u001b[0m\u001b[0;34m.\u001b[0m\u001b[0mVideoWriter\u001b[0m\u001b[0;34m(\u001b[0m\u001b[0mpathOut\u001b[0m\u001b[0;34m,\u001b[0m\u001b[0mcv2\u001b[0m\u001b[0;34m.\u001b[0m\u001b[0mVideoWriter_fourcc\u001b[0m\u001b[0;34m(\u001b[0m\u001b[0;34m*\u001b[0m\u001b[0;34m'MP4V'\u001b[0m\u001b[0;34m)\u001b[0m\u001b[0;34m,\u001b[0m \u001b[0mfps\u001b[0m\u001b[0;34m,\u001b[0m \u001b[0msize\u001b[0m\u001b[0;34m)\u001b[0m\u001b[0;34m\u001b[0m\u001b[0;34m\u001b[0m\u001b[0m\n\u001b[0m\u001b[1;32m     28\u001b[0m     \u001b[0;32mfor\u001b[0m \u001b[0mi\u001b[0m \u001b[0;32min\u001b[0m \u001b[0mrange\u001b[0m\u001b[0;34m(\u001b[0m\u001b[0mlen\u001b[0m\u001b[0;34m(\u001b[0m\u001b[0mframe_array\u001b[0m\u001b[0;34m)\u001b[0m\u001b[0;34m)\u001b[0m\u001b[0;34m:\u001b[0m\u001b[0;34m\u001b[0m\u001b[0;34m\u001b[0m\u001b[0m\n\u001b[1;32m     29\u001b[0m         \u001b[0;31m# writing to a image array\u001b[0m\u001b[0;34m\u001b[0m\u001b[0;34m\u001b[0m\u001b[0;34m\u001b[0m\u001b[0m\n",
      "\u001b[0;31mUnboundLocalError\u001b[0m: local variable 'size' referenced before assignment"
     ]
    }
   ],
   "source": [
    "'''\n",
    "This code will take the input frames in the directory passed to the pathIn,\n",
    "and stitch them into a video, to be saved at pathOut\n",
    "'''\n",
    "import cv2\n",
    "import numpy as np\n",
    "import os\n",
    "from os.path import isfile, join\n",
    "import sys\n",
    "def convert_frames_to_video(pathIn,pathOut,fps):\n",
    "    frame_array = []\n",
    "    files = [f for f in os.listdir(pathIn) if isfile(join(pathIn, f))]\n",
    "    print(len(files))\n",
    "    for i in range(len(files)):\n",
    "        if i > -1:\n",
    "            a = 'kang' + str(i)+ '.jpg'\n",
    "            print(a)\n",
    "            filename=pathIn + '/' + a\n",
    "            img = cv2.imread(filename)\n",
    "\n",
    "            if img is not None:\n",
    "                #reading each files\n",
    "                height, width, layers = img.shape\n",
    "                size = (width,height)\n",
    "                #inserting the frames into an image array\n",
    "                frame_array.append(img)\n",
    "    out = cv2.VideoWriter(pathOut,cv2.VideoWriter_fourcc(*'MP4V'), fps, size)\n",
    "    for i in range(len(frame_array)):\n",
    "        # writing to a image array\n",
    "        out.write(frame_array[i])\n",
    "    out.release()\n",
    "def main():\n",
    "    pathIn= './frame_results/'\n",
    "    pathOut = './ouput_video.mp4'\n",
    "    fps = 25.0\n",
    "    convert_frames_to_video(pathIn, pathOut, fps)\n",
    "if __name__==\"__main__\":\n",
    "    main()"
   ]
  },
  {
   "cell_type": "code",
   "execution_count": null,
   "metadata": {
    "id": "b8MibqeRqpqh"
   },
   "outputs": [],
   "source": []
  }
 ],
 "metadata": {
  "accelerator": "GPU",
  "colab": {
   "collapsed_sections": [],
   "name": "video_maker.ipynb",
   "provenance": []
  },
  "kernelspec": {
   "display_name": "Python 3",
   "language": "python",
   "name": "python3"
  },
  "language_info": {
   "codemirror_mode": {
    "name": "ipython",
    "version": 3
   },
   "file_extension": ".py",
   "mimetype": "text/x-python",
   "name": "python",
   "nbconvert_exporter": "python",
   "pygments_lexer": "ipython3",
   "version": "3.7.9"
  }
 },
 "nbformat": 4,
 "nbformat_minor": 1
}
