{
  "nbformat": 4,
  "nbformat_minor": 0,
  "metadata": {
    "colab": {
      "name": "video_maker.ipynb",
      "provenance": [],
      "collapsed_sections": []
    },
    "kernelspec": {
      "name": "python3",
      "display_name": "Python 3"
    },
    "language_info": {
      "name": "python"
    },
    "accelerator": "GPU"
  },
  "cells": [
    {
      "cell_type": "code",
      "metadata": {
        "colab": {
          "base_uri": "https://localhost:8080/",
          "height": 35
        },
        "id": "MZUro-F0pqMM",
        "outputId": "a0de60dc-3f24-4cd4-ccfa-9950a212aa72"
      },
      "source": [
        "'''\n",
        "Uncomment these lines if you hope to make use of Google Colab\n",
        "'''\n",
        "# from google.colab import drive \n",
        "# drive.mount('/content/gdrive')"
      ],
      "execution_count": 1,
      "outputs": [
        {
          "output_type": "execute_result",
          "data": {
            "application/vnd.google.colaboratory.intrinsic+json": {
              "type": "string"
            },
            "text/plain": [
              "'\\nUncomment these lines if you hope to make use of Google Colab\\n'"
            ]
          },
          "metadata": {
            "tags": []
          },
          "execution_count": 1
        }
      ]
    },
    {
      "cell_type": "code",
      "metadata": {
        "id": "lfRJyxG1OR9q",
        "colab": {
          "base_uri": "https://localhost:8080/"
        },
        "outputId": "5f986c5f-a558-4127-9a20-05519e2bfb3b"
      },
      "source": [
        "'''\n",
        "Checking that none of the desired frames were missing\n",
        "'''\n",
        "import os\n",
        "\n",
        "for i in range(3600):\n",
        "  path = 'gdrive/MyDrive/munachiso_frames/obama_speech_results/kang'+str(i)+'.jpg'\n",
        "  if not os.path.isfile(path):\n",
        "    break\n",
        "print('File at path', path, 'is missing')\n"
      ],
      "execution_count": 2,
      "outputs": [
        {
          "output_type": "stream",
          "text": [
            "File at path gdrive/MyDrive/munachiso_frames/obama_speech_results/kang3598.jpg is missing\n"
          ],
          "name": "stdout"
        }
      ]
    },
    {
      "cell_type": "code",
      "metadata": {
        "colab": {
          "base_uri": "https://localhost:8080/"
        },
        "id": "2afhHpgv3nOk",
        "outputId": "1f482a31-f30e-413c-a856-1f592bef80ab"
      },
      "source": [
        "import cv2\n",
        "import numpy as np\n",
        "import os\n",
        "from os.path import isfile, join\n",
        "import sys\n",
        "\n",
        "'''\n",
        "Print the target frame rate\n",
        "'''\n",
        "\n",
        "cap= cv2.VideoCapture('gdrive/MyDrive/munachiso_frames/obama_speech.mp4')\n",
        "framespersecond= int(cap.get(cv2.CAP_PROP_FPS))\n",
        "print(\"FPS in this video is \", framespersecond)"
      ],
      "execution_count": 4,
      "outputs": [
        {
          "output_type": "stream",
          "text": [
            "FPS in this video is  29\n"
          ],
          "name": "stdout"
        }
      ]
    },
    {
      "cell_type": "code",
      "metadata": {
        "id": "dkq7UFmOq4oZ",
        "colab": {
          "base_uri": "https://localhost:8080/"
        },
        "outputId": "00706027-9819-4b2f-b1a8-c963c3ee8b15"
      },
      "source": [
        "\n",
        "'''\n",
        "This code will take the input frames in the directory passed to the pathIn,\n",
        "and stitch them into a video, to be saved at pathOut\n",
        "'''\n",
        "\n",
        "def convert_frames_to_video(pathIn,pathOut,fps):\n",
        "    frame_array = []\n",
        "    files = [f for f in os.listdir(pathIn) if isfile(join(pathIn, f))]\n",
        "    print(len(files))\n",
        "    for i in range(len(files)):\n",
        "        if i > -1:\n",
        "            a = 'kang' + str(i)+ '.jpg'\n",
        "            print(a)\n",
        "            filename=pathIn + '/' + a\n",
        "            img = cv2.imread(filename)\n",
        "\n",
        "            if img is not None:\n",
        "                #reading each files\n",
        "                height, width, layers = img.shape\n",
        "                size = (width,height)\n",
        "                #inserting the frames into an image array\n",
        "                frame_array.append(img)\n",
        "    out = cv2.VideoWriter(pathOut,cv2.VideoWriter_fourcc(*'MP4V'), fps, size)\n",
        "    for i in range(len(frame_array)):\n",
        "        # writing to a image array\n",
        "        out.write(frame_array[i])\n",
        "    out.release()\n",
        "def main():\n",
        "    pathIn= 'gdrive/MyDrive/munachiso_frames/obama_speech_results/'\n",
        "    pathOut = 'gdrive/MyDrive/munachiso_frames/obama_cartoon_nosound.mp4'\n",
        "    fps = 29.0 # make sure to use the correctly calculated frame rate, can be seen in `properties` as well\n",
        "    convert_frames_to_video(pathIn, pathOut, fps)\n",
        "if __name__==\"__main__\":\n",
        "    main()"
      ],
      "execution_count": null,
      "outputs": [
        {
          "output_type": "stream",
          "text": [
            "3599\n",
            "kang0.jpg\n",
            "kang1.jpg\n",
            "kang2.jpg\n",
            "kang3.jpg\n",
            "kang4.jpg\n",
            "kang5.jpg\n",
            "kang6.jpg\n",
            "kang7.jpg\n",
            "kang8.jpg\n",
            "kang9.jpg\n",
            "kang10.jpg\n",
            "kang11.jpg\n",
            "kang12.jpg\n",
            "kang13.jpg\n",
            "kang14.jpg\n",
            "kang15.jpg\n",
            "kang16.jpg\n",
            "kang17.jpg\n",
            "kang18.jpg\n",
            "kang19.jpg\n",
            "kang20.jpg\n",
            "kang21.jpg\n",
            "kang22.jpg\n",
            "kang23.jpg\n",
            "kang24.jpg\n"
          ],
          "name": "stdout"
        }
      ]
    },
    {
      "cell_type": "code",
      "metadata": {
        "id": "b8MibqeRqpqh"
      },
      "source": [
        ""
      ],
      "execution_count": null,
      "outputs": []
    }
  ]
}
